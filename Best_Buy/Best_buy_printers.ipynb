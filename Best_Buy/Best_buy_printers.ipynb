{
 "cells": [
  {
   "cell_type": "code",
   "execution_count": 24,
   "id": "0cc6b9a6",
   "metadata": {},
   "outputs": [],
   "source": [
    "from selenium import webdriver\n",
    "from selenium.webdriver.chrome.service import Service\n",
    "from selenium.webdriver.common.by import By\n",
    "import time\n",
    "import pandas as pd"
   ]
  },
  {
   "cell_type": "code",
   "execution_count": 2,
   "id": "37480205",
   "metadata": {},
   "outputs": [],
   "source": [
    "s=Service(\"C:\\\\Users\\\\DHWANI\\\\.jupyter\\\\chromedriver.exe\")\n",
    "driver=webdriver.Chrome(service=s)"
   ]
  },
  {
   "cell_type": "code",
   "execution_count": 5,
   "id": "bbe74397",
   "metadata": {},
   "outputs": [],
   "source": [
    "s=Service(\"C:\\\\Users\\\\DHWANI\\\\.jupyter\\\\chromedriver.exe\")\n",
    "driver=webdriver.Chrome(service=s)\n",
    "driver.get('https://www.bestbuy.com/?intl=nosplash')\n",
    "content=driver.page_source"
   ]
  },
  {
   "cell_type": "code",
   "execution_count": 6,
   "id": "7977c469",
   "metadata": {},
   "outputs": [],
   "source": [
    "element=driver.find_element(By.CLASS_NAME,'search-input')  #locating search bar\n",
    "time.sleep(3)\n",
    "element.clear()\n",
    "element.send_keys('printer') #typing in search bar\n",
    "time.sleep(3)"
   ]
  },
  {
   "cell_type": "code",
   "execution_count": 7,
   "id": "7db247c6",
   "metadata": {},
   "outputs": [],
   "source": [
    "search=driver.find_element(By.CLASS_NAME,'header-search-button').click() #clicking in search bar\n",
    "time.sleep(3)"
   ]
  },
  {
   "cell_type": "code",
   "execution_count": 8,
   "id": "f5a0d28a",
   "metadata": {},
   "outputs": [],
   "source": [
    "driver.execute_script(\"window.scrollTo(0, 500)\")\n",
    "time.sleep(3)"
   ]
  },
  {
   "cell_type": "code",
   "execution_count": 9,
   "id": "bc6fb033",
   "metadata": {},
   "outputs": [],
   "source": [
    "driver.find_element(By.XPATH,'//a[@href=\"/site/all-printers/laser-printers/abcat0511003.c?id=abcat0511003\"]').click() #laser printer page"
   ]
  },
  {
   "cell_type": "code",
   "execution_count": 10,
   "id": "14186586",
   "metadata": {},
   "outputs": [],
   "source": [
    "driver.execute_script(\"window.scrollTo(0, 1000)\")"
   ]
  },
  {
   "cell_type": "code",
   "execution_count": 11,
   "id": "96cd22f9",
   "metadata": {},
   "outputs": [],
   "source": [
    "driver.find_element(By.XPATH,'//a[@href=\"/site/hp-laserjet-pro-m404n-black-and-white-laser-printer-white/6348964.p?skuId=6348964\"]').click()"
   ]
  },
  {
   "cell_type": "code",
   "execution_count": 37,
   "id": "e105d955",
   "metadata": {},
   "outputs": [],
   "source": [
    "name=[]\n",
    "model=[]\n",
    "rating=[]\n",
    "price=[]"
   ]
  },
  {
   "cell_type": "code",
   "execution_count": 38,
   "id": "734c6bf6",
   "metadata": {},
   "outputs": [],
   "source": [
    "name=driver.find_element(By.XPATH,'//h1[@class=\"heading-5 v-fw-regular\"]').text #finds the name of printer\n"
   ]
  },
  {
   "cell_type": "code",
   "execution_count": 39,
   "id": "03843cf9",
   "metadata": {},
   "outputs": [],
   "source": [
    "model=driver.find_element(By.XPATH, '//span[@class=\"product-data-value body-copy\"]').text  #finds the model of the printer"
   ]
  },
  {
   "cell_type": "code",
   "execution_count": 40,
   "id": "529d3da1",
   "metadata": {},
   "outputs": [],
   "source": [
    "rating=driver.find_element(By.XPATH, '//span[@class=\"ugc-c-review-average font-weight-medium order-1\"]').text #finds rating"
   ]
  },
  {
   "cell_type": "code",
   "execution_count": 158,
   "id": "94c8baef",
   "metadata": {},
   "outputs": [],
   "source": [
    "price=driver.find_element(By.XPATH,'//div[@class=\"pricing-price pricing-lib-price-19-2226-12 priceView-price \"]/div/div/div/div/span[1]').text  #finds price of the printer"
   ]
  },
  {
   "cell_type": "code",
   "execution_count": 159,
   "id": "a898643a",
   "metadata": {},
   "outputs": [
    {
     "data": {
      "text/plain": [
       "Product Name    HP - LaserJet Pro M404n Black-and-White Laser ...\n",
       "Model                                                  W1A52A#BGJ\n",
       "Rating                                                        4.4\n",
       "Price                                                     $329.99\n",
       "dtype: object"
      ]
     },
     "execution_count": 159,
     "metadata": {},
     "output_type": "execute_result"
    }
   ],
   "source": [
    "s=pd.Series({'Product Name':name,'Model':model,'Rating':rating,'Price':price})\n",
    "\n",
    "s"
   ]
  },
  {
   "cell_type": "code",
   "execution_count": 51,
   "id": "5d3e4bec",
   "metadata": {},
   "outputs": [
    {
     "data": {
      "text/html": [
       "<div>\n",
       "<style scoped>\n",
       "    .dataframe tbody tr th:only-of-type {\n",
       "        vertical-align: middle;\n",
       "    }\n",
       "\n",
       "    .dataframe tbody tr th {\n",
       "        vertical-align: top;\n",
       "    }\n",
       "\n",
       "    .dataframe thead th {\n",
       "        text-align: right;\n",
       "    }\n",
       "</style>\n",
       "<table border=\"1\" class=\"dataframe\">\n",
       "  <thead>\n",
       "    <tr style=\"text-align: right;\">\n",
       "      <th></th>\n",
       "      <th>Product Name</th>\n",
       "      <th>Model</th>\n",
       "      <th>Rating</th>\n",
       "      <th>Price</th>\n",
       "    </tr>\n",
       "  </thead>\n",
       "  <tbody>\n",
       "    <tr>\n",
       "      <th>0</th>\n",
       "      <td>HP - LaserJet Pro M404n Black-and-White Laser ...</td>\n",
       "      <td>W1A52A#BGJ</td>\n",
       "      <td>4.4</td>\n",
       "      <td>$329.99</td>\n",
       "    </tr>\n",
       "  </tbody>\n",
       "</table>\n",
       "</div>"
      ],
      "text/plain": [
       "                                        Product Name       Model Rating  \\\n",
       "0  HP - LaserJet Pro M404n Black-and-White Laser ...  W1A52A#BGJ    4.4   \n",
       "\n",
       "     Price  \n",
       "0  $329.99  "
      ]
     },
     "execution_count": 51,
     "metadata": {},
     "output_type": "execute_result"
    }
   ],
   "source": [
    "df=pd.DataFrame(s).T\n",
    "df"
   ]
  },
  {
   "cell_type": "code",
   "execution_count": 124,
   "id": "c2c1d7c0",
   "metadata": {},
   "outputs": [
    {
     "data": {
      "text/html": [
       "<div>\n",
       "<style scoped>\n",
       "    .dataframe tbody tr th:only-of-type {\n",
       "        vertical-align: middle;\n",
       "    }\n",
       "\n",
       "    .dataframe tbody tr th {\n",
       "        vertical-align: top;\n",
       "    }\n",
       "\n",
       "    .dataframe thead th {\n",
       "        text-align: right;\n",
       "    }\n",
       "</style>\n",
       "<table border=\"1\" class=\"dataframe\">\n",
       "  <thead>\n",
       "    <tr style=\"text-align: right;\">\n",
       "      <th></th>\n",
       "      <th>Product Name</th>\n",
       "      <th>Model</th>\n",
       "      <th>Rating</th>\n",
       "      <th>Price</th>\n",
       "    </tr>\n",
       "  </thead>\n",
       "  <tbody>\n",
       "    <tr>\n",
       "      <th>0</th>\n",
       "      <td>HP - LaserJet Pro M404n Black-and-White Laser ...</td>\n",
       "      <td>W1A52A#BGJ</td>\n",
       "      <td>4.4</td>\n",
       "      <td>$329.99</td>\n",
       "    </tr>\n",
       "  </tbody>\n",
       "</table>\n",
       "</div>"
      ],
      "text/plain": [
       "                                        Product Name       Model Rating  \\\n",
       "0  HP - LaserJet Pro M404n Black-and-White Laser ...  W1A52A#BGJ    4.4   \n",
       "\n",
       "     Price  \n",
       "0  $329.99  "
      ]
     },
     "execution_count": 124,
     "metadata": {},
     "output_type": "execute_result"
    }
   ],
   "source": [
    "\n",
    "df = pd.DataFrame({'Product Name':[name],'Model':[model],'Rating':[rating],'Price':[price]}) #displays it\n",
    "df"
   ]
  },
  {
   "cell_type": "code",
   "execution_count": 56,
   "id": "7838d3c7",
   "metadata": {},
   "outputs": [
    {
     "data": {
      "text/html": [
       "<div>\n",
       "<style scoped>\n",
       "    .dataframe tbody tr th:only-of-type {\n",
       "        vertical-align: middle;\n",
       "    }\n",
       "\n",
       "    .dataframe tbody tr th {\n",
       "        vertical-align: top;\n",
       "    }\n",
       "\n",
       "    .dataframe thead th {\n",
       "        text-align: right;\n",
       "    }\n",
       "</style>\n",
       "<table border=\"1\" class=\"dataframe\">\n",
       "  <thead>\n",
       "    <tr style=\"text-align: right;\">\n",
       "      <th></th>\n",
       "      <th>Product Name</th>\n",
       "      <th>Model</th>\n",
       "      <th>Rating</th>\n",
       "      <th>Price</th>\n",
       "    </tr>\n",
       "  </thead>\n",
       "  <tbody>\n",
       "    <tr>\n",
       "      <th>1</th>\n",
       "      <td>HP - LaserJet Pro M404n Black-and-White Laser ...</td>\n",
       "      <td>W1A52A#BGJ</td>\n",
       "      <td>4.4</td>\n",
       "      <td>$329.99</td>\n",
       "    </tr>\n",
       "    <tr>\n",
       "      <th>2</th>\n",
       "      <td>HP - LaserJet Pro M404n Black-and-White Laser ...</td>\n",
       "      <td>W1A52A#BGJ</td>\n",
       "      <td>4.4</td>\n",
       "      <td>$329.99</td>\n",
       "    </tr>\n",
       "  </tbody>\n",
       "</table>\n",
       "</div>"
      ],
      "text/plain": [
       "                                        Product Name       Model Rating  \\\n",
       "1  HP - LaserJet Pro M404n Black-and-White Laser ...  W1A52A#BGJ    4.4   \n",
       "2  HP - LaserJet Pro M404n Black-and-White Laser ...  W1A52A#BGJ    4.4   \n",
       "\n",
       "     Price  \n",
       "1  $329.99  \n",
       "2  $329.99  "
      ]
     },
     "execution_count": 56,
     "metadata": {},
     "output_type": "execute_result"
    }
   ],
   "source": [
    "printer_details={'Product Name':name,'Model':model,'Rating':rating,'Price':price}\n",
    "df=pd.DataFrame(printer_details,index=[\"1\",\"2\"])\n",
    "df"
   ]
  },
  {
   "cell_type": "code",
   "execution_count": 53,
   "id": "02a078d4",
   "metadata": {},
   "outputs": [
    {
     "name": "stdout",
     "output_type": "stream",
     "text": [
      "{'Product Name': 'HP - LaserJet Pro M404n Black-and-White Laser Printer - White', 'Model': 'W1A52A#BGJ', 'Rating': '4.4', 'Price': '$329.99'}\n"
     ]
    }
   ],
   "source": [
    "printer_details={'Product Name':name,'Model':model,'Rating':rating,'Price':price}\n",
    "print(printer_details)"
   ]
  },
  {
   "cell_type": "code",
   "execution_count": 65,
   "id": "6158da47",
   "metadata": {},
   "outputs": [],
   "source": [
    "driver.find_element(By.XPATH,'//button[@aria-controls=\"specifications-accordion-content\"]').click() #opening specifications"
   ]
  },
  {
   "cell_type": "code",
   "execution_count": 91,
   "id": "5b60e6d5",
   "metadata": {},
   "outputs": [
    {
     "name": "stdout",
     "output_type": "stream",
     "text": [
      "Portable\n",
      "No\n",
      "Automatic Document Feeder\n",
      "No\n",
      "Photo Printing\n",
      "No\n",
      "Touch Screen\n",
      "No\n",
      "Automatic Two-Sided Printing\n",
      "No\n",
      "Print Head Type\n",
      "HP FastRes1200, HP ProRes1200\n"
     ]
    }
   ],
   "source": [
    "specs=driver.find_elements(By.XPATH,'//ul[@class=\"specifications-list\"]');\n",
    "print(specs[4].text)"
   ]
  },
  {
   "cell_type": "code",
   "execution_count": 102,
   "id": "f8a30acd",
   "metadata": {},
   "outputs": [],
   "source": [
    "list=[]\n",
    "for i in range(len(specs)):\n",
    "    list.append(specs[i].text)"
   ]
  },
  {
   "cell_type": "code",
   "execution_count": 103,
   "id": "d888abe8",
   "metadata": {},
   "outputs": [
    {
     "data": {
      "text/plain": [
       "['Mobile Device Printing\\nYes\\nNetworking\\nWired\\nENERGY STAR Certified\\nNo\\nPrinter Type\\nPrinter\\nDuty Cycle\\nUp to 80,000\\nISO Mono Print Speed\\n38 pages per minute\\nMonochromatic/Color\\nMonochromatic',\n",
       " 'Product Name\\nLaserJet Pro M404n Black-and-White Laser Printer\\nBrand\\nHP\\nDisplay Screen\\nYes\\nDisplay Screen Size\\n1.87 inches\\nModel Number\\nW1A52A#BGJ\\nColor\\nWhite\\nColor Category\\nWhite',\n",
       " 'Printer Connectivity\\nApple AirPrint, Ethernet, Google Cloud Print, HP Smart, HP ePrint, Mopria Print Service, USB 2.0\\nMinimum System Requirements\\nPC: 2GB available HDD space, Internet connection, USB port, Internet browser; MAC: 2GB available hard drive space, Internet connection or USB port',\n",
       " 'Product Height\\n9.5 inches\\nProduct Width\\n15 inches\\nProduct Weight\\n18.1 pounds',\n",
       " 'Portable\\nNo\\nAutomatic Document Feeder\\nNo\\nPhoto Printing\\nNo\\nTouch Screen\\nNo\\nAutomatic Two-Sided Printing\\nNo\\nPrint Head Type\\nHP FastRes1200, HP ProRes1200',\n",
       " 'EPEAT Qualified\\nYes\\nEPEAT Level\\nSilver',\n",
       " 'Compatible Cartridges\\nHP 58A Black (CF258A), HP 58X Black (CF258X)\\nInk Subscription Service Available\\nNo\\nNumber of Black Cartridges Included\\n1\\nNumber of Color Cartridges Included\\n0\\nNumber Of Cartridges Required\\n1',\n",
       " 'Internal Memory\\nYes',\n",
       " 'Maximum Document Length\\n14 inches\\nMaximum Document Width\\n8.5 inches\\nPaper Feeder\\nBottom loader\\nPaper Handling\\n100-sheet and 250-sheet input trays, 150-sheet output bin\\nSupported Paper Sizes\\nLetter, legal, executive, Oficio (8.5 x 13), 4 x 6, 5 x 8, envelopes (No 10, Monarch)\\nTray Capacity\\n350\\nMedia Weight (Minimum)\\n60 grams per square meter\\nMedia Weight (Maximum)\\n175 grams per square meter',\n",
       " 'Approximate Page Yield (Black)\\n1500\\nPrinter Resolution (Black)\\nUp to 4800 x 600\\nOutput Tray Capacity\\n150\\nRecommended Monthly Volume\\nUp to 4,000\\nFirst Page Out Time\\n6 seconds',\n",
       " \"Manufacturer's Warranty - Parts\\n1 year\\nManufacturer's Warranty - Labor\\n1 year\",\n",
       " 'UPC\\n192018895126']"
      ]
     },
     "execution_count": 103,
     "metadata": {},
     "output_type": "execute_result"
    }
   ],
   "source": [
    "list"
   ]
  },
  {
   "cell_type": "code",
   "execution_count": 104,
   "id": "7b5b0968",
   "metadata": {},
   "outputs": [],
   "source": [
    "# list1=[]\n",
    "# for j in list:\n",
    "#     list1.append(j.strip())  #to remove \\n"
   ]
  },
  {
   "cell_type": "code",
   "execution_count": 105,
   "id": "48a8fe20",
   "metadata": {},
   "outputs": [
    {
     "data": {
      "text/plain": [
       "['Mobile Device Printing\\nYes\\nNetworking\\nWired\\nENERGY STAR Certified\\nNo\\nPrinter Type\\nPrinter\\nDuty Cycle\\nUp to 80,000\\nISO Mono Print Speed\\n38 pages per minute\\nMonochromatic/Color\\nMonochromatic',\n",
       " 'Product Name\\nLaserJet Pro M404n Black-and-White Laser Printer\\nBrand\\nHP\\nDisplay Screen\\nYes\\nDisplay Screen Size\\n1.87 inches\\nModel Number\\nW1A52A#BGJ\\nColor\\nWhite\\nColor Category\\nWhite',\n",
       " 'Printer Connectivity\\nApple AirPrint, Ethernet, Google Cloud Print, HP Smart, HP ePrint, Mopria Print Service, USB 2.0\\nMinimum System Requirements\\nPC: 2GB available HDD space, Internet connection, USB port, Internet browser; MAC: 2GB available hard drive space, Internet connection or USB port',\n",
       " 'Product Height\\n9.5 inches\\nProduct Width\\n15 inches\\nProduct Weight\\n18.1 pounds',\n",
       " 'Portable\\nNo\\nAutomatic Document Feeder\\nNo\\nPhoto Printing\\nNo\\nTouch Screen\\nNo\\nAutomatic Two-Sided Printing\\nNo\\nPrint Head Type\\nHP FastRes1200, HP ProRes1200',\n",
       " 'EPEAT Qualified\\nYes\\nEPEAT Level\\nSilver',\n",
       " 'Compatible Cartridges\\nHP 58A Black (CF258A), HP 58X Black (CF258X)\\nInk Subscription Service Available\\nNo\\nNumber of Black Cartridges Included\\n1\\nNumber of Color Cartridges Included\\n0\\nNumber Of Cartridges Required\\n1',\n",
       " 'Internal Memory\\nYes',\n",
       " 'Maximum Document Length\\n14 inches\\nMaximum Document Width\\n8.5 inches\\nPaper Feeder\\nBottom loader\\nPaper Handling\\n100-sheet and 250-sheet input trays, 150-sheet output bin\\nSupported Paper Sizes\\nLetter, legal, executive, Oficio (8.5 x 13), 4 x 6, 5 x 8, envelopes (No 10, Monarch)\\nTray Capacity\\n350\\nMedia Weight (Minimum)\\n60 grams per square meter\\nMedia Weight (Maximum)\\n175 grams per square meter',\n",
       " 'Approximate Page Yield (Black)\\n1500\\nPrinter Resolution (Black)\\nUp to 4800 x 600\\nOutput Tray Capacity\\n150\\nRecommended Monthly Volume\\nUp to 4,000\\nFirst Page Out Time\\n6 seconds',\n",
       " \"Manufacturer's Warranty - Parts\\n1 year\\nManufacturer's Warranty - Labor\\n1 year\",\n",
       " 'UPC\\n192018895126']"
      ]
     },
     "execution_count": 105,
     "metadata": {},
     "output_type": "execute_result"
    }
   ],
   "source": [
    "#list1"
   ]
  },
  {
   "cell_type": "code",
   "execution_count": null,
   "id": "6400388f",
   "metadata": {},
   "outputs": [],
   "source": [
    "[[block1], [block2]]\n",
    "\n",
    "\n",
    "[block1, block2] \n",
    "use .extend()\n"
   ]
  },
  {
   "cell_type": "code",
   "execution_count": null,
   "id": "28a9c011",
   "metadata": {},
   "outputs": [],
   "source": []
  },
  {
   "cell_type": "code",
   "execution_count": 107,
   "id": "78fb2219",
   "metadata": {},
   "outputs": [],
   "source": [
    "split_list = []\n",
    "for x in list:\n",
    "    split_list.append(x.split('\\n'))"
   ]
  },
  {
   "cell_type": "code",
   "execution_count": 108,
   "id": "24392626",
   "metadata": {},
   "outputs": [
    {
     "data": {
      "text/plain": [
       "[['Mobile Device Printing',\n",
       "  'Yes',\n",
       "  'Networking',\n",
       "  'Wired',\n",
       "  'ENERGY STAR Certified',\n",
       "  'No',\n",
       "  'Printer Type',\n",
       "  'Printer',\n",
       "  'Duty Cycle',\n",
       "  'Up to 80,000',\n",
       "  'ISO Mono Print Speed',\n",
       "  '38 pages per minute',\n",
       "  'Monochromatic/Color',\n",
       "  'Monochromatic'],\n",
       " ['Product Name',\n",
       "  'LaserJet Pro M404n Black-and-White Laser Printer',\n",
       "  'Brand',\n",
       "  'HP',\n",
       "  'Display Screen',\n",
       "  'Yes',\n",
       "  'Display Screen Size',\n",
       "  '1.87 inches',\n",
       "  'Model Number',\n",
       "  'W1A52A#BGJ',\n",
       "  'Color',\n",
       "  'White',\n",
       "  'Color Category',\n",
       "  'White'],\n",
       " ['Printer Connectivity',\n",
       "  'Apple AirPrint, Ethernet, Google Cloud Print, HP Smart, HP ePrint, Mopria Print Service, USB 2.0',\n",
       "  'Minimum System Requirements',\n",
       "  'PC: 2GB available HDD space, Internet connection, USB port, Internet browser; MAC: 2GB available hard drive space, Internet connection or USB port'],\n",
       " ['Product Height',\n",
       "  '9.5 inches',\n",
       "  'Product Width',\n",
       "  '15 inches',\n",
       "  'Product Weight',\n",
       "  '18.1 pounds'],\n",
       " ['Portable',\n",
       "  'No',\n",
       "  'Automatic Document Feeder',\n",
       "  'No',\n",
       "  'Photo Printing',\n",
       "  'No',\n",
       "  'Touch Screen',\n",
       "  'No',\n",
       "  'Automatic Two-Sided Printing',\n",
       "  'No',\n",
       "  'Print Head Type',\n",
       "  'HP FastRes1200, HP ProRes1200'],\n",
       " ['EPEAT Qualified', 'Yes', 'EPEAT Level', 'Silver'],\n",
       " ['Compatible Cartridges',\n",
       "  'HP 58A Black (CF258A), HP 58X Black (CF258X)',\n",
       "  'Ink Subscription Service Available',\n",
       "  'No',\n",
       "  'Number of Black Cartridges Included',\n",
       "  '1',\n",
       "  'Number of Color Cartridges Included',\n",
       "  '0',\n",
       "  'Number Of Cartridges Required',\n",
       "  '1'],\n",
       " ['Internal Memory', 'Yes'],\n",
       " ['Maximum Document Length',\n",
       "  '14 inches',\n",
       "  'Maximum Document Width',\n",
       "  '8.5 inches',\n",
       "  'Paper Feeder',\n",
       "  'Bottom loader',\n",
       "  'Paper Handling',\n",
       "  '100-sheet and 250-sheet input trays, 150-sheet output bin',\n",
       "  'Supported Paper Sizes',\n",
       "  'Letter, legal, executive, Oficio (8.5 x 13), 4 x 6, 5 x 8, envelopes (No 10, Monarch)',\n",
       "  'Tray Capacity',\n",
       "  '350',\n",
       "  'Media Weight (Minimum)',\n",
       "  '60 grams per square meter',\n",
       "  'Media Weight (Maximum)',\n",
       "  '175 grams per square meter'],\n",
       " ['Approximate Page Yield (Black)',\n",
       "  '1500',\n",
       "  'Printer Resolution (Black)',\n",
       "  'Up to 4800 x 600',\n",
       "  'Output Tray Capacity',\n",
       "  '150',\n",
       "  'Recommended Monthly Volume',\n",
       "  'Up to 4,000',\n",
       "  'First Page Out Time',\n",
       "  '6 seconds'],\n",
       " [\"Manufacturer's Warranty - Parts\",\n",
       "  '1 year',\n",
       "  \"Manufacturer's Warranty - Labor\",\n",
       "  '1 year'],\n",
       " ['UPC', '192018895126']]"
      ]
     },
     "execution_count": 108,
     "metadata": {},
     "output_type": "execute_result"
    }
   ],
   "source": [
    "split_list"
   ]
  },
  {
   "cell_type": "code",
   "execution_count": 112,
   "id": "bcb18fb4",
   "metadata": {},
   "outputs": [
    {
     "data": {
      "text/plain": [
       "[['Mobile Device Printing',\n",
       "  'Networking',\n",
       "  'ENERGY STAR Certified',\n",
       "  'Printer Type',\n",
       "  'Duty Cycle',\n",
       "  'ISO Mono Print Speed',\n",
       "  'Monochromatic/Color'],\n",
       " ['Product Name',\n",
       "  'Brand',\n",
       "  'Display Screen',\n",
       "  'Display Screen Size',\n",
       "  'Model Number',\n",
       "  'Color',\n",
       "  'Color Category'],\n",
       " ['Printer Connectivity', 'Minimum System Requirements'],\n",
       " ['Product Height', 'Product Width', 'Product Weight'],\n",
       " ['Portable',\n",
       "  'Automatic Document Feeder',\n",
       "  'Photo Printing',\n",
       "  'Touch Screen',\n",
       "  'Automatic Two-Sided Printing',\n",
       "  'Print Head Type'],\n",
       " ['EPEAT Qualified', 'EPEAT Level'],\n",
       " ['Compatible Cartridges',\n",
       "  'Ink Subscription Service Available',\n",
       "  'Number of Black Cartridges Included',\n",
       "  'Number of Color Cartridges Included',\n",
       "  'Number Of Cartridges Required'],\n",
       " ['Internal Memory'],\n",
       " ['Maximum Document Length',\n",
       "  'Maximum Document Width',\n",
       "  'Paper Feeder',\n",
       "  'Paper Handling',\n",
       "  'Supported Paper Sizes',\n",
       "  'Tray Capacity',\n",
       "  'Media Weight (Minimum)',\n",
       "  'Media Weight (Maximum)'],\n",
       " ['Approximate Page Yield (Black)',\n",
       "  'Printer Resolution (Black)',\n",
       "  'Output Tray Capacity',\n",
       "  'Recommended Monthly Volume',\n",
       "  'First Page Out Time'],\n",
       " [\"Manufacturer's Warranty - Parts\", \"Manufacturer's Warranty - Labor\"],\n",
       " ['UPC']]"
      ]
     },
     "execution_count": 112,
     "metadata": {},
     "output_type": "execute_result"
    }
   ],
   "source": [
    "key_specs=[a[::2] for a in split_list] #storing the specifications titles as key\n",
    "key_specs"
   ]
  },
  {
   "cell_type": "code",
   "execution_count": 114,
   "id": "93437e3f",
   "metadata": {},
   "outputs": [
    {
     "data": {
      "text/plain": [
       "[['Yes',\n",
       "  'Wired',\n",
       "  'No',\n",
       "  'Printer',\n",
       "  'Up to 80,000',\n",
       "  '38 pages per minute',\n",
       "  'Monochromatic'],\n",
       " ['LaserJet Pro M404n Black-and-White Laser Printer',\n",
       "  'HP',\n",
       "  'Yes',\n",
       "  '1.87 inches',\n",
       "  'W1A52A#BGJ',\n",
       "  'White',\n",
       "  'White'],\n",
       " ['Apple AirPrint, Ethernet, Google Cloud Print, HP Smart, HP ePrint, Mopria Print Service, USB 2.0',\n",
       "  'PC: 2GB available HDD space, Internet connection, USB port, Internet browser; MAC: 2GB available hard drive space, Internet connection or USB port'],\n",
       " ['9.5 inches', '15 inches', '18.1 pounds'],\n",
       " ['No', 'No', 'No', 'No', 'No', 'HP FastRes1200, HP ProRes1200'],\n",
       " ['Yes', 'Silver'],\n",
       " ['HP 58A Black (CF258A), HP 58X Black (CF258X)', 'No', '1', '0', '1'],\n",
       " ['Yes'],\n",
       " ['14 inches',\n",
       "  '8.5 inches',\n",
       "  'Bottom loader',\n",
       "  '100-sheet and 250-sheet input trays, 150-sheet output bin',\n",
       "  'Letter, legal, executive, Oficio (8.5 x 13), 4 x 6, 5 x 8, envelopes (No 10, Monarch)',\n",
       "  '350',\n",
       "  '60 grams per square meter',\n",
       "  '175 grams per square meter'],\n",
       " ['1500', 'Up to 4800 x 600', '150', 'Up to 4,000', '6 seconds'],\n",
       " ['1 year', '1 year'],\n",
       " ['192018895126']]"
      ]
     },
     "execution_count": 114,
     "metadata": {},
     "output_type": "execute_result"
    }
   ],
   "source": [
    "value_specs=[b[1::2] for b in split_list] #values of specifications\n",
    "value_specs"
   ]
  },
  {
   "cell_type": "code",
   "execution_count": 160,
   "id": "2e3e1857",
   "metadata": {},
   "outputs": [
    {
     "name": "stdout",
     "output_type": "stream",
     "text": [
      "Mobile Device Printing\n",
      "Networking\n",
      "ENERGY STAR Certified\n",
      "Printer Type\n",
      "Duty Cycle\n",
      "ISO Mono Print Speed\n",
      "Monochromatic/Color\n",
      "Product Name\n",
      "Brand\n",
      "Display Screen\n",
      "Display Screen Size\n",
      "Model Number\n",
      "Color\n",
      "Color Category\n",
      "Printer Connectivity\n",
      "Minimum System Requirements\n",
      "Product Height\n",
      "Product Width\n",
      "Product Weight\n",
      "Portable\n",
      "Automatic Document Feeder\n",
      "Photo Printing\n",
      "Touch Screen\n",
      "Automatic Two-Sided Printing\n",
      "Print Head Type\n",
      "EPEAT Qualified\n",
      "EPEAT Level\n",
      "Compatible Cartridges\n",
      "Ink Subscription Service Available\n",
      "Number of Black Cartridges Included\n",
      "Number of Color Cartridges Included\n",
      "Number Of Cartridges Required\n",
      "Internal Memory\n",
      "Maximum Document Length\n",
      "Maximum Document Width\n",
      "Paper Feeder\n",
      "Paper Handling\n",
      "Supported Paper Sizes\n",
      "Tray Capacity\n",
      "Media Weight (Minimum)\n",
      "Media Weight (Maximum)\n",
      "Approximate Page Yield (Black)\n",
      "Printer Resolution (Black)\n",
      "Output Tray Capacity\n",
      "Recommended Monthly Volume\n",
      "First Page Out Time\n",
      "Manufacturer's Warranty - Parts\n",
      "Manufacturer's Warranty - Labor\n",
      "UPC\n"
     ]
    }
   ],
   "source": [
    "for spec in key_specs:\n",
    "    for property_ in spec:\n",
    "        print(property_)"
   ]
  },
  {
   "cell_type": "code",
   "execution_count": 163,
   "id": "5a904b43",
   "metadata": {},
   "outputs": [
    {
     "data": {
      "text/plain": [
       "['Mobile Device Printing',\n",
       " 'Networking',\n",
       " 'ENERGY STAR Certified',\n",
       " 'Printer Type',\n",
       " 'Duty Cycle',\n",
       " 'ISO Mono Print Speed',\n",
       " 'Monochromatic/Color',\n",
       " 'Product Name',\n",
       " 'Brand',\n",
       " 'Display Screen',\n",
       " 'Display Screen Size',\n",
       " 'Model Number',\n",
       " 'Color',\n",
       " 'Color Category',\n",
       " 'Printer Connectivity',\n",
       " 'Minimum System Requirements',\n",
       " 'Product Height',\n",
       " 'Product Width',\n",
       " 'Product Weight',\n",
       " 'Portable',\n",
       " 'Automatic Document Feeder',\n",
       " 'Photo Printing',\n",
       " 'Touch Screen',\n",
       " 'Automatic Two-Sided Printing',\n",
       " 'Print Head Type',\n",
       " 'EPEAT Qualified',\n",
       " 'EPEAT Level',\n",
       " 'Compatible Cartridges',\n",
       " 'Ink Subscription Service Available',\n",
       " 'Number of Black Cartridges Included',\n",
       " 'Number of Color Cartridges Included',\n",
       " 'Number Of Cartridges Required',\n",
       " 'Internal Memory',\n",
       " 'Maximum Document Length',\n",
       " 'Maximum Document Width',\n",
       " 'Paper Feeder',\n",
       " 'Paper Handling',\n",
       " 'Supported Paper Sizes',\n",
       " 'Tray Capacity',\n",
       " 'Media Weight (Minimum)',\n",
       " 'Media Weight (Maximum)',\n",
       " 'Approximate Page Yield (Black)',\n",
       " 'Printer Resolution (Black)',\n",
       " 'Output Tray Capacity',\n",
       " 'Recommended Monthly Volume',\n",
       " 'First Page Out Time',\n",
       " \"Manufacturer's Warranty - Parts\",\n",
       " \"Manufacturer's Warranty - Labor\",\n",
       " 'UPC']"
      ]
     },
     "execution_count": 163,
     "metadata": {},
     "output_type": "execute_result"
    }
   ],
   "source": [
    "# x = []\n",
    "# for spec in key_specs:\n",
    "#     for property_ in spec:\n",
    "#         x.append(property_)\n",
    "\n",
    "\n",
    "key_spec_properties = [property_ for spec in key_specs for property_ in spec]\n",
    "key_spec_properties"
   ]
  },
  {
   "cell_type": "code",
   "execution_count": 123,
   "id": "f693ea90",
   "metadata": {},
   "outputs": [
    {
     "data": {
      "text/html": [
       "<div>\n",
       "<style scoped>\n",
       "    .dataframe tbody tr th:only-of-type {\n",
       "        vertical-align: middle;\n",
       "    }\n",
       "\n",
       "    .dataframe tbody tr th {\n",
       "        vertical-align: top;\n",
       "    }\n",
       "\n",
       "    .dataframe thead th {\n",
       "        text-align: right;\n",
       "    }\n",
       "</style>\n",
       "<table border=\"1\" class=\"dataframe\">\n",
       "  <thead>\n",
       "    <tr style=\"text-align: right;\">\n",
       "      <th></th>\n",
       "      <th>Properties</th>\n",
       "      <th>Specifications</th>\n",
       "    </tr>\n",
       "  </thead>\n",
       "  <tbody>\n",
       "    <tr>\n",
       "      <th>0</th>\n",
       "      <td>[Mobile Device Printing, Networking, ENERGY ST...</td>\n",
       "      <td>[Yes, Wired, No, Printer, Up to 80,000, 38 pag...</td>\n",
       "    </tr>\n",
       "    <tr>\n",
       "      <th>1</th>\n",
       "      <td>[Product Name, Brand, Display Screen, Display ...</td>\n",
       "      <td>[LaserJet Pro M404n Black-and-White Laser Prin...</td>\n",
       "    </tr>\n",
       "    <tr>\n",
       "      <th>2</th>\n",
       "      <td>[Printer Connectivity, Minimum System Requirem...</td>\n",
       "      <td>[Apple AirPrint, Ethernet, Google Cloud Print,...</td>\n",
       "    </tr>\n",
       "    <tr>\n",
       "      <th>3</th>\n",
       "      <td>[Product Height, Product Width, Product Weight]</td>\n",
       "      <td>[9.5 inches, 15 inches, 18.1 pounds]</td>\n",
       "    </tr>\n",
       "    <tr>\n",
       "      <th>4</th>\n",
       "      <td>[Portable, Automatic Document Feeder, Photo Pr...</td>\n",
       "      <td>[No, No, No, No, No, HP FastRes1200, HP ProRes...</td>\n",
       "    </tr>\n",
       "    <tr>\n",
       "      <th>5</th>\n",
       "      <td>[EPEAT Qualified, EPEAT Level]</td>\n",
       "      <td>[Yes, Silver]</td>\n",
       "    </tr>\n",
       "    <tr>\n",
       "      <th>6</th>\n",
       "      <td>[Compatible Cartridges, Ink Subscription Servi...</td>\n",
       "      <td>[HP 58A Black (CF258A), HP 58X Black (CF258X),...</td>\n",
       "    </tr>\n",
       "    <tr>\n",
       "      <th>7</th>\n",
       "      <td>[Internal Memory]</td>\n",
       "      <td>[Yes]</td>\n",
       "    </tr>\n",
       "    <tr>\n",
       "      <th>8</th>\n",
       "      <td>[Maximum Document Length, Maximum Document Wid...</td>\n",
       "      <td>[14 inches, 8.5 inches, Bottom loader, 100-she...</td>\n",
       "    </tr>\n",
       "    <tr>\n",
       "      <th>9</th>\n",
       "      <td>[Approximate Page Yield (Black), Printer Resol...</td>\n",
       "      <td>[1500, Up to 4800 x 600, 150, Up to 4,000, 6 s...</td>\n",
       "    </tr>\n",
       "    <tr>\n",
       "      <th>10</th>\n",
       "      <td>[Manufacturer's Warranty - Parts, Manufacturer...</td>\n",
       "      <td>[1 year, 1 year]</td>\n",
       "    </tr>\n",
       "    <tr>\n",
       "      <th>11</th>\n",
       "      <td>[UPC]</td>\n",
       "      <td>[192018895126]</td>\n",
       "    </tr>\n",
       "  </tbody>\n",
       "</table>\n",
       "</div>"
      ],
      "text/plain": [
       "                                           Properties  \\\n",
       "0   [Mobile Device Printing, Networking, ENERGY ST...   \n",
       "1   [Product Name, Brand, Display Screen, Display ...   \n",
       "2   [Printer Connectivity, Minimum System Requirem...   \n",
       "3     [Product Height, Product Width, Product Weight]   \n",
       "4   [Portable, Automatic Document Feeder, Photo Pr...   \n",
       "5                      [EPEAT Qualified, EPEAT Level]   \n",
       "6   [Compatible Cartridges, Ink Subscription Servi...   \n",
       "7                                   [Internal Memory]   \n",
       "8   [Maximum Document Length, Maximum Document Wid...   \n",
       "9   [Approximate Page Yield (Black), Printer Resol...   \n",
       "10  [Manufacturer's Warranty - Parts, Manufacturer...   \n",
       "11                                              [UPC]   \n",
       "\n",
       "                                       Specifications  \n",
       "0   [Yes, Wired, No, Printer, Up to 80,000, 38 pag...  \n",
       "1   [LaserJet Pro M404n Black-and-White Laser Prin...  \n",
       "2   [Apple AirPrint, Ethernet, Google Cloud Print,...  \n",
       "3                [9.5 inches, 15 inches, 18.1 pounds]  \n",
       "4   [No, No, No, No, No, HP FastRes1200, HP ProRes...  \n",
       "5                                       [Yes, Silver]  \n",
       "6   [HP 58A Black (CF258A), HP 58X Black (CF258X),...  \n",
       "7                                               [Yes]  \n",
       "8   [14 inches, 8.5 inches, Bottom loader, 100-she...  \n",
       "9   [1500, Up to 4800 x 600, 150, Up to 4,000, 6 s...  \n",
       "10                                   [1 year, 1 year]  \n",
       "11                                     [192018895126]  "
      ]
     },
     "execution_count": 123,
     "metadata": {},
     "output_type": "execute_result"
    }
   ],
   "source": [
    "df1=pd.DataFrame({'Properties':key_specs, 'Specifications':value_specs}) #dataframe for specifications\n",
    "df1"
   ]
  },
  {
   "cell_type": "code",
   "execution_count": 126,
   "id": "0b38874a",
   "metadata": {},
   "outputs": [],
   "source": [
    "driver.find_element(By.XPATH,'//button[@aria-controls=\"specifications-accordion-content\"]').click() #closing specifications"
   ]
  },
  {
   "cell_type": "code",
   "execution_count": 131,
   "id": "7e10b279",
   "metadata": {},
   "outputs": [],
   "source": [
    "driver.find_element(By.XPATH,'//button[@aria-controls=\"ugc-ratings-and-reviews-accordion\"]').click() #opening reviews"
   ]
  },
  {
   "cell_type": "code",
   "execution_count": 140,
   "id": "d51bb33e",
   "metadata": {},
   "outputs": [
    {
     "name": "stdout",
     "output_type": "stream",
     "text": [
      "So Far So Good\n"
     ]
    }
   ],
   "source": [
    "overview=driver.find_elements(By.XPATH,'//h4[@class=\"c-section-title review-title heading-5 v-fw-medium\"]')\n",
    "print(overview[4].text)"
   ]
  },
  {
   "cell_type": "code",
   "execution_count": 142,
   "id": "30a5006c",
   "metadata": {},
   "outputs": [
    {
     "data": {
      "text/plain": [
       "[['Excellent laser printer'],\n",
       " ['Very good SOHO printer'],\n",
       " ['Quick, sharp, black/grayscale prints'],\n",
       " ['Last HP Printer I will EVER buy'],\n",
       " ['So Far So Good'],\n",
       " ['VERY Fast Printer...but VERY Slow Warm-Up'],\n",
       " ['Perfect Black and White Prints'],\n",
       " ['Great printer for the office or home office']]"
      ]
     },
     "execution_count": 142,
     "metadata": {},
     "output_type": "execute_result"
    }
   ],
   "source": [
    "list_overview=[]\n",
    "for i in range(len(overview)):  #converting it into text and storing\n",
    "    list_overview.append(overview[i].text)\n",
    "\n",
    "split_list_overview = []\n",
    "for x in list_overview:\n",
    "    split_list_overview.append(x.split('\\n'))\n",
    "split_list_overview"
   ]
  },
  {
   "cell_type": "code",
   "execution_count": 155,
   "id": "15ff366a",
   "metadata": {},
   "outputs": [
    {
     "name": "stdout",
     "output_type": "stream",
     "text": [
      "Hello there,\n",
      "\n",
      "I'm very sorry to hear about the hardware issues you experienced with your device. We certainly build our printers with the intent of providing a reliable experience for our customers, so I can imagine how frustrating and disappointing a situation like yours can be.\n",
      "\n",
      "Please reach out to us for support. We'd be more than happy to work through any troubleshooting or initiate a replacement under your printer's warranty.  You can give us a call at +1 800-474-6836 between the hours of 8 am - 9 pm ET. To expedite things a bit, I recommend gathering this information beforehand:\n",
      "Read more\n"
     ]
    }
   ],
   "source": [
    "comment=driver.find_elements(By.XPATH,'//div[@class=\"ugc-components ugc-line-clamp\"]')\n",
    "print(comment[4].text)"
   ]
  },
  {
   "cell_type": "code",
   "execution_count": 157,
   "id": "d7d38428",
   "metadata": {},
   "outputs": [
    {
     "data": {
      "text/plain": [
       "[['This LaserJet is an excellent and incredible print producing printer for any business or home office. It prints up to 38 monochrome pages per minute, and it is not loud. It is straightforward to set up on my home office network, its kid of a plug and play device. Once on the network, I connected the printer to my Google Cloud Print account, and this allows me to print basically from any place in the world where there is an internet connection. Cloud printer, when set up correctly, is handy and allows a business to run more smoothly. The box comes included with a starter toner that will yield 1500 pages prints. Replacing toner is relative easy. Double side printer is done manually, but it is quick and easy; it requires the user to place the printed document on the multipurpose tray #1. Text is printed with sharp clarity, providing results that I can rely on for my home business. Now my printings run more smoothly because this printer requires very little intervention- tray #2 holds up to 250 sheets and the multipurpose tray #1 holds up to 100 sheets. I use the multipurpose tray for specialized sheets or reprinted forms. When needed, tray #1 & #2 can accept legal-size',\n",
       "  'Read more'],\n",
       " ['We have two older Brother laser printers and one of them was starting to sound funny when printing so I decided it was time to try something else. One of my first laser printers was an old HP laser that a friend gave me, that was back in 1995 and it lasted for many years, so I was always a fan of the HP laser printers, just not the pricing as the Brothers were always cheaper and cheaper to maintain until now.',\n",
       "  '',\n",
       "  'Unboxing:',\n",
       "  'The printer comes with everything you need to get set up and printing right away. There’s the printer “naturally”, power cord, USB cable, Ethernet patch cord, an already installed beginner cartridge that’s rated at 1500 pages, and all the paperwork.',\n",
       "  'Read more'],\n",
       " ['This is a simple ethernet or USB connected monochrome laserjet printer. Super fast printing which claims up to 40ppm. It is a matter of seconds from the time the computer spools it to the time in hand. Multiple page documents completed before most inkjet printers even get the first page out. However, it is single sided only with manual double sided requiring the user to place the documents back in tray 1. ',\n",
       "  '',\n",
       "  'Setup can be simple or complex, depending on how you want to manage the printer. If it is self managed it will use DHCP IP and basic default settings. If it is IT Managed you can get down to the fine details of how you want to use this printer and ensure it meets your security demands. All of the settings can be changed later through its IP web page. The web interface allows for most of the advanced configuration. This includes access lists, firewall rules, security certificates, syslog connection and enabling/disabling certain web features such as AirPrint and Google Cloud Print. It',\n",
       "  'Read more'],\n",
       " ['Hooked up the printer via USB to a Windows 10 64bit computer. All was well for the first 3 weeks. Printed, on average, 20 sheets per day. Then today when I attempted to print, I was met with an error code on the LED display which read \"Error 0XB30581B9\" and it would not allow me to print any more pages. I looked online and followed the directions to \"clear HP Error Code\" but their instructions (to unplug the printer, wait 10 seconds and then press the power button and then plug the printer back again...this accomplished nothing but changing the Error code on the LED display to a blank white screen (see photo). ',\n",
       "  '',\n",
       "  'No amount of unplugging, etc. did anything except cause me more anxiety.  I then RE-SEARCHED this error on the HP web site and it essentially said that the printer is faulty, deal with it.',\n",
       "  'Read more'],\n",
       " ['Hello there,',\n",
       "  '',\n",
       "  \"I'm very sorry to hear about the hardware issues you experienced with your device. We certainly build our printers with the intent of providing a reliable experience for our customers, so I can imagine how frustrating and disappointing a situation like yours can be.\",\n",
       "  '',\n",
       "  \"Please reach out to us for support. We'd be more than happy to work through any troubleshooting or initiate a replacement under your printer's warranty.  You can give us a call at +1 800-474-6836 between the hours of 8 am - 9 pm ET. To expedite things a bit, I recommend gathering this information beforehand:\",\n",
       "  'Read more'],\n",
       " ['Honestly, when I ordered the HP - LaserJet Pro M404n Black-and-White Printer, I did not realize that in order to print wirelessly, this machine would require the user to connect this printer to their router with an Ethernet cord, which by the way is not included with the printer. The box contained the printer with the 58 A introductory print cartridge, the power cord, and some setup and explanatory paperwork. ',\n",
       "  '',\n",
       "  \"So either you use the Ethernet cord, on you to procure, and then you will have wireless printing, or you can also connect the printer to the computer by USB. It is very important to download the HP Smart app; I got it from the Google Play Store since I use an android smartphone, a Samsung. This app was vital to the setup of the printer, and you can see that I have included screenshots of some of the pages within it. I tried to download the software to my computer through HP's website to no avail, but when I went back and read the original product request, it explicitly\",\n",
       "  'Read more'],\n",
       " ['Laser printers have several advantages over inkjet printers…but, at the same time, there are certain advantages that ink jet printers have over laser printers. The HP LaserJet Pro M404n is a perfect example. Is the M404n right for you? We shall see……….',\n",
       "  '',\n",
       "  'UNBOXING & INITIAL IMPRESSIONS:',\n",
       "  'Many companies have switched to “environmentally-friendly packaging” (cardboard, as opposed to Styrofoam), including HP in many of their lower-end printers. Unfortunately, HP still uses (a lot of) Styrofoam in packaging their higher-end printers. While it does keep the printer ‘safe’ during shipping, the impact to the environment will last for several human generations. As for cables, the ONLY cable included is the power cord…there are no USB and/or Ethernet cables included. On the ‘bright’ side, the printer’s toner cartridge comes pre-installed.',\n",
       "  'Read more'],\n",
       " ['PROS',\n",
       "  'Fast at 40ppm ',\n",
       "  'Easy web page configuration after initial setup ',\n",
       "  ' ',\n",
       "  '',\n",
       "  'CONS ',\n",
       "  'No duplex capability ',\n",
       "  'Slow warm-up ',\n",
       "  'Read more'],\n",
       " [\"This HP printer is great for home or office use, since it prints a lot of pages quickly, in crisp, clear print quality. It would also work well for students, for the same reason. Very reliable. Not meant to be a photo printer. It does allow to choose between document and photo when you print, so you could try photo paper and print a black and white picture, but it's really not for that purpose. It can only print 2 sided if you manually flip the paper and print on the back. \",\n",
       "  '',\n",
       "  \"It's primarily designed for business use, and it exceeds expectations. This printer is compatible with multiple devices and operating systems, many versions of Windows, iOS, Android, etc. I quickly downloaded the HP Smart app, which prompted me to add the HP printer plugin. It searched for and found the printer already connected to the network. Then I was able to print right from my phone- printing from downloaded files, pictures, and from email. All of these showed great print quality. And it prints so quickly, there's no hesitation. The specs say 40 pages per minute, and this\",\n",
       "  'Read more'],\n",
       " [''],\n",
       " [''],\n",
       " [''],\n",
       " [''],\n",
       " [''],\n",
       " [''],\n",
       " [''],\n",
       " ['']]"
      ]
     },
     "execution_count": 157,
     "metadata": {},
     "output_type": "execute_result"
    }
   ],
   "source": [
    "list_comment=[]\n",
    "for i in range(len(comment)):  #converting it into text and storing\n",
    "    list_comment.append(comment[i].text)\n",
    "\n",
    "split_list_comment = []\n",
    "for x in list_comment:\n",
    "    split_list_comment.append(x.split('\\n'))\n",
    "split_list_comment"
   ]
  },
  {
   "cell_type": "code",
   "execution_count": null,
   "id": "56c01aaf",
   "metadata": {},
   "outputs": [],
   "source": []
  }
 ],
 "metadata": {
  "kernelspec": {
   "display_name": "Python 3 (ipykernel)",
   "language": "python",
   "name": "python3"
  },
  "language_info": {
   "codemirror_mode": {
    "name": "ipython",
    "version": 3
   },
   "file_extension": ".py",
   "mimetype": "text/x-python",
   "name": "python",
   "nbconvert_exporter": "python",
   "pygments_lexer": "ipython3",
   "version": "3.10.5"
  }
 },
 "nbformat": 4,
 "nbformat_minor": 5
}
